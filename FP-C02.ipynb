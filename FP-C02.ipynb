{
 "cells": [
  {
   "cell_type": "code",
   "execution_count": null,
   "metadata": {},
   "outputs": [],
   "source": [
    "# 容器序列 list、tuple和colletions.deque这些序列可以存放不同类型的数据 - 存放所包含的任意类型的对象的引用\n",
    "# 扁平序列 str、bytes、bytearray、memoryview和array.array这些学历只能存放一种类型的数据 - 存放值\n",
    "\n",
    "# 可变序列 list、bytearray、array.array、colletions.deque和memoryview\n",
    "# 不可变序列 tuple、str和bytes"
   ]
  },
  {
   "cell_type": "code",
   "execution_count": null,
   "metadata": {},
   "outputs": [],
   "source": [
    "metro_areas = [\n",
    "    ('Tokyo', 'JP', 36.933, (35.689722, 139.691667)),   # <1>\n",
    "    ('Delhi NCR', 'IN', 21.935, (28.613889, 77.208889)),\n",
    "    ('Mexico City', 'MX', 20.142, (19.433333, -99.133333)),\n",
    "    ('New York-Newark', 'US', 20.104, (40.808611, -74.020386)),\n",
    "    ('Sao Paulo', 'BR', 19.649, (-23.547778, -46.635833)),\n",
    "]\n",
    "\n",
    "print('{:15} | {:^9} | {:^9}'.format('', 'lat.', 'long.'))\n",
    "fmt = '{:15} | {:9.4f} | {:9.4f}'\n",
    "for name, cc, pop, (latitude, longitude) in metro_areas:  # <2>\n",
    "    if longitude <= 0:  # <3>\n",
    "        print(fmt.format(name, latitude, longitude))"
   ]
  },
  {
   "cell_type": "code",
   "execution_count": null,
   "metadata": {},
   "outputs": [],
   "source": [
    "# 列表推导 目的是生成列表\n",
    "symbols = '$~!*#&+'\n",
    "codes = [ord(symbol) for \n",
    "         symbol in symbols]\n",
    "print(codes)\n",
    "\n",
    "colors = ['black', 'while']\n",
    "sizes = ['S', 'M', 'L']\n",
    "tshirts = [(color, size) for size in sizes\n",
    "                         for color in colors]\n",
    "print(tshirts)\n",
    "tshirts2 = [(color, size) for color in colors\n",
    "                         for size in sizes]\n",
    "print(tshirts2)\n",
    "\n",
    "# 列表推导不会再有变量泄漏问题\n",
    "x = 'ABC'\n",
    "dummy = [ord(x) for x in x] # 不影响上下文中的x\n",
    "print(('x={0}').format(x));\n",
    "print('dummy=', dummy)"
   ]
  },
  {
   "cell_type": "code",
   "execution_count": null,
   "metadata": {},
   "outputs": [],
   "source": [
    "# 生成器表达式 - 背后遵守了迭代器协议\n",
    "t1 = tuple(ord(symbol) for symbol in symbols)\n",
    "import array\n",
    "a1 = array.array('I', (ord(symbol) for symbol in symbols))\n",
    "print(t1)\n",
    "print(a1)\n",
    "\n",
    "# 和前例不同，此处不真实生成列表，仅打印生成器表达式在循环中的临时组合\n",
    "# 在组合大量数据时有意义\n",
    "for tsh in ('%s %s' % (c, s) for c in colors\n",
    "                             for s in sizes):\n",
    "    print(tsh)"
   ]
  },
  {
   "cell_type": "code",
   "execution_count": null,
   "metadata": {},
   "outputs": [],
   "source": [
    "# 元组-不可变列表、作为记录，拆包\n",
    "travel_ids=[('USA','31195855'), ('BRA', 'CE342567'), ('ESP', 'XDA205856')]\n",
    "for passport in sorted(travel_ids):\n",
    "    print('%s/%s' % passport)    # 用%格式运算符匹配对应的元组元素，自动拆包\n",
    "for country, _ in travel_ids:    # 用_占位拆包时不用的元素\n",
    "    print(country)"
   ]
  },
  {
   "cell_type": "code",
   "execution_count": null,
   "metadata": {},
   "outputs": [],
   "source": [
    "# 拆包与占位符\n",
    "a, b = (34, 56)\n",
    "b, a = a, b # 不用中间变量进行交换\n",
    "print(('a={0}, b={1}'.format(a, b)))\n",
    "t = (20, 8)\n",
    "print(divmod(*t)) # 用*拆包可迭代对象作为函数参数\n",
    "a, b, *rest, c = range(5)\n",
    "print(('a={0}, b={1}, rest={2}'.format(a, b, rest)))\n",
    "a, b, (c, d) = (1, 2, (3, 4)) # 嵌套元组拆包\n",
    "print(('a={0}, b={1}, c={2}, d={3}'.format(a, b, c, d)))"
   ]
  },
  {
   "cell_type": "code",
   "execution_count": null,
   "metadata": {},
   "outputs": [],
   "source": [
    "# namedtuple\n",
    "from collections import namedtuple\n",
    "City = namedtuple('City', 'name country population coordinates')\n",
    "tokyo = City('Tokyo', 'JP', 36.933, (35.689722, 139.691667))\n",
    "print('{:15} {:^8} {:9.4f} {:9.6f} {:9.6f}'.format(tokyo.name, tokyo.country, \n",
    "                                                   tokyo.population, tokyo.coordinates[0], tokyo.coordinates[1]))\n",
    "print(City._fields)\n",
    "delhi_data = ('Delhi', 'IN', 21.935, (28.613889, 77.208889))\n",
    "delhi = City._make(delhi_data)\n",
    "print(delhi._asdict())\n",
    "for key, value in delhi._asdict().items():\n",
    "    print(key + ':', value)"
   ]
  },
  {
   "cell_type": "code",
   "execution_count": null,
   "metadata": {},
   "outputs": [],
   "source": [
    "# 切片 s[a:b:c] 对s在a和b之间以c为间隔取汁。c为负值时反向取值\n",
    "s = 'bicyle'\n",
    "print(s[::3])\n",
    "print(s[::-2])\n",
    "l = list(range(10))\n",
    "print(l)\n",
    "l[2:5] = [20, 30]\n",
    "print(l)"
   ]
  },
  {
   "cell_type": "code",
   "execution_count": null,
   "metadata": {},
   "outputs": [],
   "source": [
    "d1 = [1, 2, 3]\n",
    "d2 = [4, 5, 6]\n",
    "t = (1, 2, 3)\n",
    "a = d1 + d2    # +用于相同类型序列拼接\n",
    "b = a * 3 # *用于多次复制后拼接\n",
    "\n",
    "# 注意区别下面两种不同方式的结果\n",
    "c = [['_'] * 3 for i in range(3)]\n",
    "c[1][2] = 'x'\n",
    "d = [['_'] * 3] * 3\n",
    "c[1][2] = 'o'\n",
    "print(a)\n",
    "print(b)\n",
    "print(c)\n",
    "print(d)\n",
    "\n",
    "# 在不可变序列使用 +=和*=，会重新创建\n",
    "print(id(a), id(t))\n",
    "a *= 2\n",
    "t *= 2\n",
    "print(id(a), id(t))\n",
    "print(a)\n",
    "print(t)"
   ]
  },
  {
   "cell_type": "code",
   "execution_count": null,
   "metadata": {},
   "outputs": [],
   "source": [
    "# 抛出异常，同时t[2]发生了改变\n",
    "t = (1, 2, [30, 40])\n",
    "\n",
    "try:\n",
    "    t[2] += [50,60]\n",
    "except BaseException as err:\n",
    "    print(err)\n",
    "print(t)"
   ]
  },
  {
   "cell_type": "code",
   "execution_count": null,
   "metadata": {},
   "outputs": [],
   "source": [
    "# list.sort不创建新列表 而内置函数sorted无论传入什么可迭代对象，都返回一个列表\n",
    "# list.sort 和 sorted 都有两个可选关键字参数 reverse（是否反序）和key（排序函数，如str.lower忽略大小写，len基于字符串长度）\n",
    "fruits = ['grape', 'raspberry', 'apple', 'banana']\n",
    "print(sorted(fruits))\n",
    "print(sorted(fruits, reverse=True))\n",
    "print(sorted(fruits, key=len))\n",
    "print(fruits)\n",
    "print(fruits.sort(), fruits)"
   ]
  },
  {
   "cell_type": "code",
   "execution_count": null,
   "metadata": {},
   "outputs": [],
   "source": [
    "import bisect\n",
    "import sys\n",
    "import random\n",
    "\n",
    "HAYSTACK = [1, 4, 5, 6, 8, 12, 15, 20, 21, 23, 23, 26, 29, 30]\n",
    "NEEDLES = [0, 1, 2, 5, 8, 10, 22, 23, 29, 30, 31]\n",
    "\n",
    "ROW_FMT = '{0:2d} @ {1:2d}    {2}{0:<2d}'\n",
    "\n",
    "def demo(bisect_fn):\n",
    "    for needle in reversed(NEEDLES):\n",
    "        position = bisect_fn(HAYSTACK, needle)\n",
    "        offset = position * '  |'\n",
    "        print(ROW_FMT.format(needle, position, offset))\n",
    "\n",
    "print('haystack ->', ' '.join('%2d' % n for n in HAYSTACK))\n",
    "demo(bisect.bisect)\n",
    "print('haystack ->', ' '.join('%2d' % n for n in HAYSTACK))\n",
    "demo(bisect.bisect_left)\n",
    "\n",
    "SIZE = 7\n",
    "random.seed(1729)\n",
    "my_list = []\n",
    "for i in range(SIZE):\n",
    "    new_item = random.randrange(SIZE*2)\n",
    "    bisect.insort(my_list, new_item)\n",
    "    print('%2d ->' % new_item, my_list)"
   ]
  },
  {
   "cell_type": "code",
   "execution_count": null,
   "metadata": {},
   "outputs": [],
   "source": [
    "# 如果列表只包含数字，则array.array更高效，而且提供.frombytes和.tofile方法。\n",
    "# pickle模块， pickle.dump可以处理几乎所有的内置数字类型，包含复数、嵌套集合设置用户自定义的类（没有特别复杂的实现）\n",
    "# memoryview可以在不复制内容的前提下，在数据结构（可以时任何形式，如PIL图片/SQLite数据库和NumPy数组等）之间共享内存。\n",
    "# collections.deque 线程安全的双向队列\n",
    "nums = array.array('h', [-2, -1, 0, 1, 2]) # 有符号短整型\n",
    "memv = memoryview(nums)\n",
    "print(len(memv), memv[0])\n",
    "memv_oct = memv.cast('B') # z转换成无符号字符\n",
    "print(memv_oct.tolist())\n",
    "memv_oct[5] = 4 # 高位字节变成了4，对应的有符号整数变成了1024\n",
    "print(nums)\n",
    "print(memv.tolist())\n",
    "print(memv_oct.tolist())"
   ]
  }
 ],
 "metadata": {
  "kernelspec": {
   "display_name": "Python 3",
   "language": "python",
   "name": "python3"
  },
  "language_info": {
   "codemirror_mode": {
    "name": "ipython",
    "version": 3
   },
   "file_extension": ".py",
   "mimetype": "text/x-python",
   "name": "python",
   "nbconvert_exporter": "python",
   "pygments_lexer": "ipython3",
   "version": "3.6.6"
  },
  "latex_envs": {
   "LaTeX_envs_menu_present": true,
   "autoclose": false,
   "autocomplete": true,
   "bibliofile": "biblio.bib",
   "cite_by": "apalike",
   "current_citInitial": 1,
   "eqLabelWithNumbers": true,
   "eqNumInitial": 1,
   "hotkeys": {
    "equation": "Ctrl-E",
    "itemize": "Ctrl-I"
   },
   "labels_anchors": false,
   "latex_user_defs": false,
   "report_style_numbering": false,
   "user_envs_cfg": false
  }
 },
 "nbformat": 4,
 "nbformat_minor": 2
}
