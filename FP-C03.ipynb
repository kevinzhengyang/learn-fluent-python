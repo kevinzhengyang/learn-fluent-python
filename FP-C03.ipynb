{
 "cells": [
  {
   "cell_type": "code",
   "execution_count": null,
   "metadata": {
    "collapsed": true
   },
   "outputs": [],
   "source": [
    "# 可散列对象\n",
    "# 如果一个对象是可散列的，那么在这个对象的生命周期内，它的散列值是不变的，而且这个对象需要实现__hash__()方法和__qe__()方法。\n",
    "# 原子不可变数据类型（str、bytes和数值类型）、frozenset都是可散列的。\n",
    "# tuple只有其包含的所有元素都是可散列类型的情况下，它才是可散列的。\n",
    "\n",
    "from collections import abc\n",
    "my_dict = {}\n",
    "print(isinstance(my_dict, abc.Mapping))\n",
    "\n",
    "tt = (1, 2, (30, 40))\n",
    "print(hash(tt))\n",
    "\n",
    "a = dict(one=1, two=2, three=3)\n",
    "b = {'one':1, 'two':2, 'three':3}\n",
    "c = dict(zip(['one', 'two', 'three'], [1, 2, 3]))\n",
    "d = dict([('two', 2), ('one', 1), ('three', 3)])\n",
    "e = dict({'three':3, 'one':1, 'two':2})\n",
    "print(a==b==c==d==e)"
   ]
  },
  {
   "cell_type": "code",
   "execution_count": null,
   "metadata": {
    "collapsed": true
   },
   "outputs": [],
   "source": [
    "# 字典推导\n",
    "DIAL_CODES = [\n",
    "        (86, 'China'),\n",
    "        (91, 'India'),\n",
    "        (1, 'United States'),\n",
    "        (62, 'Indonesia'),\n",
    "        (55, 'Brazil'),\n",
    "        (92, 'Pakistan'),\n",
    "        (880, 'Bangladesh'),\n",
    "        (234, 'Nigeria'),\n",
    "        (7, 'Russia'),\n",
    "        (81, 'Japan'),\n",
    "    ]\n",
    "country_code = {country: code for code, country in DIAL_CODES}\n",
    "print(country_code)\n",
    "print({code: country.upper() for country, code in country_code.items()})\n",
    "print(country_code.keys())"
   ]
  }
 ],
 "metadata": {
  "kernelspec": {
   "display_name": "Python 3",
   "language": "python",
   "name": "python3"
  },
  "language_info": {
   "codemirror_mode": {
    "name": "ipython",
    "version": 3
   },
   "file_extension": ".py",
   "mimetype": "text/x-python",
   "name": "python",
   "nbconvert_exporter": "python",
   "pygments_lexer": "ipython3",
   "version": "3.6.2"
  }
 },
 "nbformat": 4,
 "nbformat_minor": 2
}
