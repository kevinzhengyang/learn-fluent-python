{
 "cells": [
  {
   "cell_type": "code",
   "execution_count": null,
   "metadata": {
    "collapsed": true
   },
   "outputs": [],
   "source": [
    "# 使用*和**在函数声明时，用于定位可选参数和关键字参数\n",
    "\n",
    "# 在调用函数时，使用**来自动拆包可迭代对象传递给函数\n",
    "\n",
    "def tag(name, *content, cls=None, **attrs):\n",
    "    \"\"\"Generate one or more HTML tags\"\"\"   # __doc__属性\n",
    "    if cls is not None:\n",
    "        print('-->get cls like %s' % cls)\n",
    "        attrs['class'] = cls\n",
    "    if attrs:\n",
    "        attr_str = ''.join(' %s=\"%s\"' % (attr, value)\n",
    "                           for attr, value\n",
    "                           in sorted(attrs.items()))\n",
    "    else:\n",
    "        attr_str = ''\n",
    "    if content:\n",
    "        return '\\n'.join('<%s%s>%s</%s>' %\n",
    "                         (name, attr_str, c, name) for c in content)\n",
    "    else:\n",
    "        return '<%s%s />' % (name, attr_str)\n",
    "\n",
    "print(tag.__doc__)\n",
    "print(dir(tag))\n",
    "print(tag('br'))   # 单个参数，传递给name\n",
    "print(tag('p', 'hello')) # 第二个参数，传递给*content\n",
    "print(tag('p', 'hello', id=33)) # 第三个关键字参数，传递给**attrs\n",
    "print(tag('p', 'hello', 'world', cls='sidebar')) #第三个参数，传递给cls关键字参数\n",
    "print(tag(content='testing', name=\"img\")) # 第一个参数也可以使用关键字参数形式name\n",
    "\n",
    "my_tag = {'name': 'img', 'title': 'Sunset Boulevard',\n",
    "          'src': 'sunset.jpg', 'cls': 'framed'}\n",
    "print(tag(**my_tag)) # 自动拆包，除了name，cls被分配给具名参数上，其他都被传递给**attrs"
   ]
  },
  {
   "cell_type": "code",
   "execution_count": null,
   "metadata": {
    "collapsed": true
   },
   "outputs": [],
   "source": [
    "# 可调用对象，实现__call__方法\n",
    "\n",
    "import random\n",
    "\n",
    "class BingoCage:\n",
    "\n",
    "    def __init__(self, items):\n",
    "        self._items = list(items)  # <1>\n",
    "        random.shuffle(self._items)  # <2>\n",
    "\n",
    "    def pick(self):  # <3>\n",
    "        try:\n",
    "            return self._items.pop()\n",
    "        except IndexError:\n",
    "            raise LookupError('pick from empty BingoCage')  # <4>\n",
    "\n",
    "    def __call__(self):  # <5>\n",
    "        return self.pick()\n",
    "\n",
    "bingo = BingoCage(range(3))\n",
    "print(bingo.pick())\n",
    "print(bingo())\n",
    "print(callable(bingo))"
   ]
  },
  {
   "cell_type": "code",
   "execution_count": null,
   "metadata": {
    "collapsed": true
   },
   "outputs": [],
   "source": [
    "#提取函数信息\n",
    "\n",
    "def clip(text, max_len=80):\n",
    "    \"\"\"Return text clipped at the last space before or after max_len\n",
    "    \"\"\"\n",
    "    end = None\n",
    "    if len(text) > max_len:\n",
    "        space_before = text.rfind(' ', 0, max_len)\n",
    "        if space_before >= 0:\n",
    "            end = space_before\n",
    "        else:\n",
    "            space_after = text.rfind(' ', max_len)\n",
    "            if space_after >= 0:\n",
    "                end = space_after\n",
    "    if end is None:  # no spaces were found\n",
    "        end = len(text)\n",
    "    return text[:end].rstrip()\n",
    "\n",
    "print(clip('banana split', 6))\n",
    "print(clip.__defaults__)\n",
    "print(clip.__code__)\n",
    "print(clip.__code__.co_varnames) # 获得函数参数（含函数局部变量）\n",
    "print(clip.__code__.co_argcount) # 获得函数参数个数\n",
    "print('-----------------------')\n",
    "\n",
    "from inspect import signature\n",
    "sig = signature(clip)\n",
    "print(sig, str(sig))\n",
    "for name, param in sig.parameters.items():\n",
    "    print(param.kind, ':', name, '=', param.default)\n",
    "\n",
    "\n",
    "# 利用bind方法验证参数\n",
    "sig = signature(tag)\n",
    "my_tag = {'name': 'img', 'title': 'Synset Boulevard', 'src': 'sunset.jpg', 'cls': 'framed'}\n",
    "bound_args = sig.bind(**my_tag)\n",
    "for name, value in bound_args.arguments.items():\n",
    "    print(name, '=', value)\n",
    "\n",
    "del my_tag['name']\n",
    "bound_args = sig.bind(**my_tag)"
   ]
  },
  {
   "cell_type": "code",
   "execution_count": null,
   "metadata": {
    "collapsed": true
   },
   "outputs": [],
   "source": [
    "# 有注解的函数\n",
    "# 参数之前后有空格，用:增加注释表达式，如果有默认值，注解放在参数名和=之间。\n",
    "# 函数返回值的注解，在声明末尾于:之间，用->和一个表达式来完成。\n",
    "# 注解不会做任何处理，只是存储在函数的__annotations__属性中。\n",
    "\n",
    "def clip(text:str, max_len:'int > 0'=80) -> str:  # <1>\n",
    "    \"\"\"Return text clipped at the last space before or after max_len\n",
    "    \"\"\"\n",
    "    end = None\n",
    "    if len(text) > max_len:\n",
    "        space_before = text.rfind(' ', 0, max_len)\n",
    "        if space_before >= 0:\n",
    "            end = space_before\n",
    "        else:\n",
    "            space_after = text.rfind(' ', max_len)\n",
    "            if space_after >= 0:\n",
    "                end = space_after\n",
    "    if end is None:  # no spaces were found\n",
    "        end = len(text)\n",
    "    return text[:end].rstrip()\n",
    "\n",
    "sig = signature(clip)\n",
    "print(sig.return_annotation)\n",
    "for param in sig.parameters.values():\n",
    "    note = repr(param.annotation).ljust(13)\n",
    "    print(note, ':', param.name, '=', param.default)"
   ]
  },
  {
   "cell_type": "code",
   "execution_count": null,
   "metadata": {
    "collapsed": true
   },
   "outputs": [],
   "source": [
    "# operator模块代替lambda表达式\n",
    "# 利用reduce函数不使用递归来实现阶乘\n",
    "from functools import reduce\n",
    "from operator import mul\n",
    "\n",
    "def fact1(n):\n",
    "    return reduce(lambda a, b: a*b, range(1, n+1))\n",
    "\n",
    "def fact2(n):\n",
    "    return reduce(mul, range(1, n+1))\n",
    "\n",
    "print(fact1(5), fact2(5))"
   ]
  },
  {
   "cell_type": "code",
   "execution_count": null,
   "metadata": {
    "collapsed": true
   },
   "outputs": [],
   "source": [
    "# 使用operator 模块的itemgetter（使用[]运算符，支持序列、映射以及任何实现__getitem__方法的类）\n",
    "from operator import itemgetter, attrgetter\n",
    "from collections import namedtuple\n",
    "\n",
    "metro_data = [\n",
    "    ('Tokyo', 'JP', 36.933, (35.689722, 139.691667)),   # <1>\n",
    "    ('Delhi NCR', 'IN', 21.935, (28.613889, 77.208889)),\n",
    "    ('Mexico City', 'MX', 20.142, (19.433333, -99.133333)),\n",
    "    ('New York-Newark', 'US', 20.104, (40.808611, -74.020386)),\n",
    "    ('Sao Paulo', 'BR', 19.649, (-23.547778, -46.635833)),\n",
    "]\n",
    "\n",
    "# 利用itemgetter排序一个元组列表\n",
    "for city in sorted(metro_data, key=itemgetter(1)):\n",
    "    print(city)\n",
    "print('---------------')\n",
    "    \n",
    "# 多个参数传递给itemgetter，返回提取的值构成的元组\n",
    "cc_name = itemgetter(1, 0)\n",
    "for city in metro_data:\n",
    "    print(cc_name(city))\n",
    "print('---------------')\n",
    "# attrgetter与itemgetter类似，提取对象的属性\n",
    "LatLong = namedtuple('LatLong', 'lat long')\n",
    "Metropolis = namedtuple('Metropolis', 'name cc pop coord')\n",
    "metro_areas = [Metropolis(name, cc, pop, LatLong(lat, long)) \n",
    "             for name, cc, pop, (lat, long) in metro_data]\n",
    "print(metro_areas[0])\n",
    "print(metro_areas[0].coord.lat)\n",
    "\n",
    "name_lat = attrgetter('name', 'coord.lat')\n",
    "for city in sorted(metro_areas, key=attrgetter('coord.lat')):\n",
    "    print(name_lat(city))"
   ]
  },
  {
   "cell_type": "code",
   "execution_count": null,
   "metadata": {
    "collapsed": true
   },
   "outputs": [],
   "source": [
    "# methodcaller 给函数或者方法其别名或者特化\n",
    "from operator import methodcaller\n",
    "upcase = methodcaller('upper')\n",
    "print(upcase('new world!'))\n",
    "\n",
    "hiph=methodcaller('replace', ' ', '-')\n",
    "print(hiph('take it down'))"
   ]
  },
  {
   "cell_type": "code",
   "execution_count": null,
   "metadata": {
    "collapsed": true
   },
   "outputs": [],
   "source": [
    "# functools.partial 偏特化\n",
    "\n",
    "from operator import mul\n",
    "from functools import partial\n",
    "\n",
    "triple = partial(mul, 3)\n",
    "print(list(map(triple, range(1, 10))))\n",
    "\n",
    "pic = partial(tag, 'img', cls='pic-frame')\n",
    "print(pic(src='wupus.jpeg'))\n",
    "print(pic) # partial返回的functools.partial对象\n",
    "print(pic.func, '===', tag) # 访问原函数和固定参数的属性"
   ]
  },
  {
   "cell_type": "code",
   "execution_count": null,
   "metadata": {
    "collapsed": true
   },
   "outputs": [],
   "source": []
  }
 ],
 "metadata": {
  "kernelspec": {
   "display_name": "Python 3",
   "language": "python",
   "name": "python3"
  },
  "language_info": {
   "codemirror_mode": {
    "name": "ipython",
    "version": 3
   },
   "file_extension": ".py",
   "mimetype": "text/x-python",
   "name": "python",
   "nbconvert_exporter": "python",
   "pygments_lexer": "ipython3",
   "version": "3.6.6"
  }
 },
 "nbformat": 4,
 "nbformat_minor": 2
}
